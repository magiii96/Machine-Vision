{
 "cells": [
  {
   "cell_type": "markdown",
   "metadata": {},
   "source": [
    "# Lab 1 - Fitting Probability Models\n",
    "\n",
    "This lab has been converted to Python by Daniel Worrall. Any errors are my fault. October 2017.\n",
    "This lab has been edited by Philipp Henzler and Mohamed Sayed. Any errors are now our fault. October 2019\n",
    "\n",
    "In this lab we will cover three different ways to fit probability distributions to data. We shall have a set of data points, _X_, for which we wish to learn the parameters for a given probability distribution. Here our data is one dimensional and continuous, so we shall focus on fitting a univariate normal distribution.\n",
    "\n",
    "You will find three Jupyter files in which you should fill in the **TODOs** sections. \n",
    "\n",
    "- `pract1_a.ipynb`\n",
    "Here we will use maximum likelihood (ML) to find the parameters of the normal distribution which is most likely given the data.\n",
    "\n",
    "- `pract1_b.ipynb`\n",
    "In the second part of the lab we shall introduce some prior information about the parameters and find the maximum a posteriori (MAP) fit.\n",
    "\n",
    "- `pract1_c.ipynb`\n",
    "Finally, we shall cover parameter estimation from a Bayesian perspective."
   ]
  },
  {
   "cell_type": "markdown",
   "metadata": {},
   "source": [
    "# Lab 1: Part A: Maximum Likelihood\n",
    "We will use maximum likelihood (ML) to fit both parameters ($\\mu$ and $\\sigma$) of a univariate normal distribution to the data."
   ]
  },
  {
   "cell_type": "code",
   "execution_count": 9,
   "metadata": {},
   "outputs": [
    {
     "name": "stdout",
     "output_type": "stream",
     "text": [
      "The autoreload extension is already loaded. To reload it, use:\n",
      "  %reload_ext autoreload\n"
     ]
    }
   ],
   "source": [
    "%load_ext autoreload\n",
    "%autoreload 2\n",
    "\n",
    "# For matrices\n",
    "import numpy as np\n",
    "\n",
    "# For plotting\n",
    "from matplotlib import pyplot as plt\n",
    "%matplotlib inline\n",
    "plt.rcParams['figure.figsize'] = (12, 6)\n",
    "plt.rc('xtick', labelsize=15) \n",
    "plt.rc('ytick', labelsize=15) \n",
    "plt.rc('font', size=15)\n",
    "\n",
    "# Our custom modules\n",
    "from normal import *\n",
    "from log_normal import *\n",
    "from plot_normal import *"
   ]
  },
  {
   "cell_type": "code",
   "execution_count": 10,
   "metadata": {},
   "outputs": [
    {
     "data": {
      "text/plain": [
       "array([[-0.52836245],\n",
       "       [ 1.42768515],\n",
       "       [-4.90247691],\n",
       "       [ 2.76746247],\n",
       "       [ 4.57381613],\n",
       "       [ 2.14769725],\n",
       "       [ 1.38164013],\n",
       "       [ 1.16968138],\n",
       "       [ 2.28144736],\n",
       "       [ 0.83631045],\n",
       "       [-0.14332799],\n",
       "       [ 0.18898802],\n",
       "       [ 1.50424252],\n",
       "       [ 3.5805138 ],\n",
       "       [ 1.10490642],\n",
       "       [-1.1927351 ],\n",
       "       [ 0.79012801],\n",
       "       [ 3.16928069],\n",
       "       [ 1.42832302],\n",
       "       [ 0.41807334],\n",
       "       [ 1.13342144],\n",
       "       [ 0.4541602 ],\n",
       "       [-1.1210371 ],\n",
       "       [ 4.18189099],\n",
       "       [ 1.94280301],\n",
       "       [ 0.87137043],\n",
       "       [ 1.30179254],\n",
       "       [ 2.36686838],\n",
       "       [ 2.3645443 ],\n",
       "       [ 0.56603181],\n",
       "       [-1.12581084],\n",
       "       [ 4.18345093],\n",
       "       [-1.97367375],\n",
       "       [ 2.75919488],\n",
       "       [ 2.08151108],\n",
       "       [-3.88021174],\n",
       "       [-0.55483903],\n",
       "       [ 4.34256286],\n",
       "       [ 3.38962799],\n",
       "       [ 1.62044258],\n",
       "       [-2.62574672],\n",
       "       [-0.44462472],\n",
       "       [-1.004456  ],\n",
       "       [-0.22484168],\n",
       "       [-3.00736213],\n",
       "       [ 4.7001606 ],\n",
       "       [ 0.9874098 ],\n",
       "       [-1.72074003],\n",
       "       [ 0.54033087],\n",
       "       [ 0.85173943]])"
      ]
     },
     "execution_count": 10,
     "metadata": {},
     "output_type": "execute_result"
    }
   ],
   "source": [
    "# Generate some data points from a normal distribution \n",
    "mu = 1     # mean\n",
    "sigma = 2  # standard deviation = sqrt(variance)\n",
    "N = 50     # number of datapoints\n",
    "\n",
    "#X is the generated data from our groundtruth distribution.\n",
    "X = mu + sigma*np.random.randn(N,1) \n",
    "X\n"
   ]
  },
  {
   "cell_type": "markdown",
   "metadata": {},
   "source": [
    "## ML Parameter Estimation of normal"
   ]
  },
  {
   "cell_type": "markdown",
   "metadata": {},
   "source": [
    "### TODO 1\n",
    "We now have data $X$ drawn from the groundtruth distribution. The job is to now estimate what this distribution is from $X$. On paper derive the ML parameter estimates (you can also find this derivation in the lecture notes) for the normal distribution and then insert the equations here. Note: Each data point here is generated independently of one another (i.i.d) - this might not always be the case with other data."
   ]
  },
  {
   "cell_type": "code",
   "execution_count": 6,
   "metadata": {},
   "outputs": [],
   "source": [
    "muML = np.sum(X)/N     # So put your answer here in place of zero.\n",
    "sigmaML = np.std(X) # So put your answer here in place of zero."
   ]
  },
  {
   "cell_type": "code",
   "execution_count": 7,
   "metadata": {},
   "outputs": [
    {
     "data": {
      "text/plain": [
       "Text(0.5, 1.0, 'ML parameter fitted distribution')"
      ]
     },
     "execution_count": 7,
     "metadata": {},
     "output_type": "execute_result"
    },
    {
     "data": {
      "image/png": "[encoded data removed]",
      "text/plain": [
       "<Figure size 432x288 with 1 Axes>"
      ]
     },
     "metadata": {
      "needs_background": "light"
     },
     "output_type": "display_data"
    }
   ],
   "source": [
    "# Plotting univariate normal\n",
    "# Normalizing histograms - assuming bins are evenly sized\n",
    "[hist_count, bin_edges] = np.histogram(X, 20)\n",
    "bin_width = bin_edges[1] - bin_edges[0]\n",
    "hist_pos = (bin_edges[1:] + bin_edges[:-1]) / 2.\n",
    "\n",
    "# Plot figure\n",
    "plt.bar(bin_edges[:-1], hist_count/(np.sum(hist_count)*bin_width), color='gray', \n",
    "        edgecolor='k', width=bin_width, label='data')\n",
    "plot_normal(mu, sigma, 'b', 'input')\n",
    "plot_normal(muML, sigmaML, 'r', 'ML estimate')\n",
    "plt.legend()\n",
    "plt.title('ML parameter fitted distribution')\n"
   ]
  },
  {
   "cell_type": "markdown",
   "metadata": {},
   "source": [
    "### Likelihood function Visualization and Brute Forcing\n",
    "\n",
    "The way in which you have come up with the maximum likelihood solution is analytical. You've derived the solution based on mathematical machinery. But now we're going to empirically show that our ML estimate is accurate by plotting the values of both the likelihood and the log-likelihood over a range of $\\sigma$ and $\\mu$ in a brute force manner. This step is just to give us more confidence in our analytical solution. \n",
    "\n",
    "The code below will compute the likelihood that the data $X$ fits a range of $\\mu$ and $\\sigma$. It will then plot this likelihood in a heat plot (similar to what you see in your notes). You will see a few markers. The blue circle is the peak of this likelihood plot - the peak is where the likelihood is at maximum and should line up with the ML estimate represented by the red cross.\n"
   ]
  },
  {
   "cell_type": "markdown",
   "metadata": {},
   "source": [
    "## Note\n",
    "In the code below, there may be nothing missing, but functions like `normal()` and `log_normal()` (which are in separate files) are being called, yet are potentially blank. To accomplish these __TODO__s, fill them in!"
   ]
  },
  {
   "cell_type": "markdown",
   "metadata": {},
   "source": [
    "### TODO 1\n",
    "Compute the likelihood and log-likelihood functions for the normal distribution: See `normal.py` and `log_normal.py`\n",
    "### TODO 3\n",
    "Empirically verify that the peak of the graph (maximum likelihood, blue circle) is at the same position as your ML solution (red cross)."
   ]
  },
  {
   "cell_type": "markdown",
   "metadata": {},
   "source": [
    "You do not need to edit the next section. Just run it to plot the results of your adapted `normal.py` and `log_normal.py`."
   ]
  },
  {
   "cell_type": "code",
   "execution_count": 8,
   "metadata": {},
   "outputs": [
    {
     "data": {
      "text/plain": [
       "<matplotlib.legend.Legend at 0x11a1d06a0>"
      ]
     },
     "execution_count": 8,
     "metadata": {},
     "output_type": "execute_result"
    },
    {
     "data": {
      "image/png": "[encoded data removed]",
      "text/plain": [
       "<Figure size 432x288 with 2 Axes>"
      ]
     },
     "metadata": {
      "needs_background": "light"
     },
     "output_type": "display_data"
    }
   ],
   "source": [
    "# Brute force compute the likelihood and log-likelihood functions\n",
    "\n",
    "# create mu and sigma ranges for graphs\n",
    "offset = 1.\n",
    "sigma_range = np.linspace(sigma-offset, sigma+offset, num=int(2.*offset / 0.01))\n",
    "mu_range = np.linspace(mu-offset, mu+offset, num=int(2.*offset / 0.01))\n",
    "\n",
    "# initialize likelihood functions with ranges\n",
    "lfun = np.zeros((len(sigma_range), len(mu_range)))\n",
    "llfun = np.zeros((len(sigma_range), len(mu_range)))\n",
    "\n",
    "# call functions that you've filled out to get likelihood and log-likelihood values for each mu and sigma.\n",
    "for i, m in enumerate(mu_range):\n",
    "    for j, s in enumerate(sigma_range):\n",
    "        lfun[j,i] = normal(X, m, s)\n",
    "        llfun[j,i] = log_normal(X, m, s)\n",
    "        \n",
    "# Plot log-likelihood function\n",
    "plt.subplot(1,2,1)\n",
    "plt.imshow(llfun, cmap=\"hot\", origin=\"lower\", \n",
    "           extent=[mu_range[0], mu_range[-1], sigma_range[0], sigma_range[-1]])\n",
    "plt.xlabel(\"$\\mu$\")\n",
    "plt.ylabel(\"$\\sigma$\")\n",
    "plt.title(\"Log-likelihood function\")\n",
    "\n",
    "## Maximum of log-likelihood function\n",
    "flat_idx = np.argmax(llfun)\n",
    "sigma_idx, mu_idx = np.unravel_index(flat_idx, llfun.shape)\n",
    "mu_max = mu_range[mu_idx]\n",
    "sigma_max = sigma_range[sigma_idx]\n",
    "val = llfun[mu_idx, sigma_idx]\n",
    "\n",
    "## Plot points\n",
    "plt.scatter(mu_max, sigma_max, facecolors='none', edgecolors='b', marker='o', s=200, label='peak')\n",
    "plt.scatter(muML, sigmaML, color='r', marker='x', s=200, label='ML estimate')\n",
    "plt.scatter(mu, sigma, facecolors='none', edgecolors='g', marker='o', s=200, label='Ground truth')\n",
    "plt.legend()\n",
    "\n",
    "# Plot likelihood function\n",
    "plt.subplot(1,2,2)\n",
    "plt.imshow(lfun, cmap=\"hot\", origin=\"lower\", \n",
    "           extent=[mu_range[0], mu_range[-1], sigma_range[0], sigma_range[-1]])\n",
    "plt.xlabel(\"$\\mu$\")\n",
    "plt.ylabel(\"$\\sigma$\")\n",
    "plt.title(\"Likelihood function\")\n",
    "\n",
    "## Maximum of log-likelihood function\n",
    "flat_idx = np.argmax(lfun)\n",
    "sigma_idx, mu_idx = np.unravel_index(flat_idx, llfun.shape)\n",
    "mu_max = mu_range[mu_idx]\n",
    "sigma_max = sigma_range[sigma_idx]\n",
    "val = llfun[mu_idx, sigma_idx]\n",
    "\n",
    "## Plot points\n",
    "plt.scatter(mu_max, sigma_max, facecolors='none', edgecolors='b', marker='o', s=200, label='peak')\n",
    "plt.scatter(muML, sigmaML, color='r', marker='x', s=200, label='ML estimate')\n",
    "plt.scatter(mu, sigma, facecolors='none', edgecolors='g', marker='o', s=200, label='Ground truth')\n",
    "plt.legend()"
   ]
  },
  {
   "cell_type": "markdown",
   "metadata": {},
   "source": [
    "# Questions\n",
    "\n",
    "1. Why don't values from the ML estimate and the peak match with the ground truth (i.e. $\\mu$ and $\\sigma$)?\n",
    "There may not exist enough amount of data for the ML estimate. Instead, it will compute the $\\mu$ and $\\sigma$ very closed to the the given data.\n",
    "2. What happens if you increase the number of points?\n",
    "close to the ground truth. \n",
    "3. BONUS QUESTION: Sometimes you run into numerical issues with a higher number of points and you dont get any meaningful results. Why and how could you fix this?\n",
    "Maybe have many noise data in this case. Just ignore thoese data and compute again.\n",
    "\n"
   ]
  },
  {
   "cell_type": "code",
   "execution_count": null,
   "metadata": {},
   "outputs": [],
   "source": []
  },
  {
   "cell_type": "code",
   "execution_count": null,
   "metadata": {},
   "outputs": [],
   "source": []
  }
 ],
 "metadata": {
  "kernelspec": {
   "display_name": "Python 3",
   "language": "python",
   "name": "python3"
  },
  "language_info": {
   "codemirror_mode": {
    "name": "ipython",
    "version": 3
   },
   "file_extension": ".py",
   "mimetype": "text/x-python",
   "name": "python",
   "nbconvert_exporter": "python",
   "pygments_lexer": "ipython3",
   "version": "3.7.3"
  }
 },
 "nbformat": 4,
 "nbformat_minor": 2
}
