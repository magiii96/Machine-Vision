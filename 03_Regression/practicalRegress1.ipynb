{
 "cells": [
  {
   "cell_type": "markdown",
   "metadata": {},
   "source": [
    "## practicalRegress1\n",
    "\n",
    "The goal of this practical is to investigate methods for regression\n",
    "\n",
    "* In part 1 we look at linear regression with maximum likelihood learning (practicalRegress1)\n",
    "* In part 2 we look at linear regression with Bayesian learning (practicalRegress2)\n",
    "* In part 3 we look at non-linear regression (practicalRegress3)\n",
    "* In part 4, observe Gaussian process regression; step through in debugger. (practicalRegress4)\n",
    "\n",
    "Work your way through these examples filling in code where it says\n",
    "\"TO DO\"\n",
    "\n",
    "\n"
   ]
  },
  {
   "cell_type": "code",
   "execution_count": 1,
   "metadata": {},
   "outputs": [],
   "source": [
    "import os \n",
    "import numpy as np\n",
    "import numpy.matlib\n",
    "import matplotlib.pyplot as plt\n",
    "import scipy.io as spio\n",
    "\n",
    "from numpy import sqrt, pi, exp, transpose, matmul\n",
    "from numpy.linalg import det, inv\n",
    "\n",
    "%matplotlib notebook\n"
   ]
  },
  {
   "cell_type": "markdown",
   "metadata": {},
   "source": [
    "#### please be awared the difference below\n",
    "    np.array([1,1,1]).shape == (3,) and its ndim == 1\n",
    "    np.ones([3,1]).shape == (3,1) and its ndim == 2"
   ]
  },
  {
   "cell_type": "code",
   "execution_count": 2,
   "metadata": {},
   "outputs": [
    {
     "data": {
      "image/png": "[encoded data removed]",
      "text/plain": [
       "<Figure size 432x288 with 1 Axes>"
      ]
     },
     "metadata": {
      "needs_background": "light"
     },
     "output_type": "display_data"
    }
   ],
   "source": [
    "#set seeds for random number generators \n",
    "#so we get the same random numbers each time\n",
    "np.random.seed(5)\n",
    "\n",
    "#define actual parameters\n",
    "offsetActual = 1.5  # this is phi_0 in the notes\n",
    "slopeActual = -0.8  # this is phi_1 in the notes\n",
    "noiseActual = 0.01  # this is sigma^2 in the notes\n",
    "\n",
    "#generate some data \n",
    "nData = 10\n",
    "X = np.random.rand(1,nData);\n",
    "w = offsetActual + slopeActual * X + np.sqrt(noiseActual) * np.random.randn(1,nData)\n",
    "\n",
    "#Transpose w so that it is a column vector like in the notes\n",
    "w = w.transpose()\n",
    "\n",
    "#display this data\n",
    "fig=plt.figure()\n",
    "plt.plot(X,w.transpose(),'r.')\n",
    "plt.xlabel('Data-X')\n",
    "plt.ylabel('World-w')\n",
    "plt.box('off')\n",
    "fig.axes[0].set_xlim(0,1)\n",
    "fig.axes[0].set_ylim(0,2) \n",
    "plt.show()\n"
   ]
  },
  {
   "cell_type": "markdown",
   "metadata": {},
   "source": [
    "#### now the problem is to fit the data \n",
    "#### TODO  - fill in this routine (fitLinearRegressionML) \n",
    "see the cell below, where its skeleton can already be found"
   ]
  },
  {
   "cell_type": "code",
   "execution_count": 3,
   "metadata": {},
   "outputs": [],
   "source": [
    "def fitLinearRegressionML(X,w):\n",
    "    \n",
    "    nData = X.shape[1]\n",
    "    \n",
    "    #TODO add a one to the start of each data example x\n",
    "    X = np.vstack([np.ones((1,nData), dtype=X.dtype), X]);\n",
    "    \n",
    "    #REPLACE THIS:\n",
    "    phi = np.ones((2,1));\n",
    "    phi = np.linalg.inv(X@X.T)@X@w;\n",
    "    #extract the slope and offset from this vector\n",
    "    offsetEst = phi[0];\n",
    "    slopeEst = phi[1];\n",
    "\n",
    "    #TODO compute the variance parameter\n",
    "    #Replace this\n",
    "    noiseEst = np.squeeze(np.dot((w - X.T@phi).T , (w - X.T @phi)))/nData;\n",
    "    \n",
    "    #performing checks on the data created\n",
    "    if not (phi.ndim == 2 and phi.size == 2):\n",
    "        raise ValueError(\"ERROR: phi should have shape (2,1), shape:{:} \".format(phi.shape)) \n",
    "    elif not (noiseEst.ndim==0 and noiseEst.size == 1):\n",
    "        raise ValueError(\"ERROR: noiseEst should be scalar(ndim=0,shape=(),), shape:{:} \".format(noiseEst.shape)) \n",
    "    else:\n",
    "        pass\n",
    "    \n",
    "    return offsetEst,slopeEst,noiseEst"
   ]
  },
  {
   "cell_type": "code",
   "execution_count": 4,
   "metadata": {
    "scrolled": false
   },
   "outputs": [
    {
     "data": {
      "image/png": "[encoded data removed]",
      "text/plain": [
       "<Figure size 432x288 with 1 Axes>"
      ]
     },
     "metadata": {
      "needs_background": "light"
     },
     "output_type": "display_data"
    }
   ],
   "source": [
    "#Fit the data\n",
    "offsetEst,slopeEst,noiseEst= fitLinearRegressionML(X,w);\n",
    "\n",
    "#Let's draw a figure to show the posterior probability \n",
    "#of the world as a function of the data\n",
    "#For every x, the model predicts a normal distribution over w\n",
    "\n",
    "X2 =np.arange(0,1,step=0.005)\n",
    "num_data = X2.size\n",
    "\n",
    "#TO DO Inference: For each element in X2 compute the mean and the variance of the posterior distribution over w\n",
    "\n",
    "#Replace this:\n",
    "predMean = offsetEst + slopeEst*X2;\n",
    "predVar = np.matlib.repmat(noiseEst,num_data,1);\n",
    "\n",
    "#performing checks on the size of the data created \n",
    "if not ( predMean.squeeze().ndim==1 and predMean.size==num_data):\n",
    "    raise ValueError('predMean should be same size as variable X2')\n",
    "elif  not ( predVar.squeeze().ndim==1 and predMean.size==num_data):\n",
    "    raise ValueError('predVar should be same size as variable X2')\n",
    "else:\n",
    "    pass\n",
    "\n",
    "#compute the pixel colours for the image - one Gaussian in each column\n",
    "wFig = np.arange(0,2,step=0.005) #0:0.005:2;\n",
    "\n",
    "postFun = np.zeros((wFig.size,num_data))\n",
    "predMean = predMean.squeeze() # remove redundant dim if any\n",
    "for cX in range(num_data):\n",
    "    postFun[:,cX] = (1/np.sqrt(2*np.pi*predVar[cX])) * np.exp( -0.5*((wFig-predMean[cX])**2)/predVar[cX] ) \n",
    "    \n",
    "#draw the figure\n",
    "fig=plt.figure()\n",
    "plt.imshow(postFun)\n",
    "plt.set_cmap('hot')\n",
    "plt.gca().invert_yaxis() \n",
    "\n",
    "#draw the points on top - they need to be rescaled so that they are in the \n",
    "#units of the pixels used to draw the picture\n",
    "plt.plot((X-X2[0])/(X2[1]-X2[0]), (w.transpose()-wFig[0])/(wFig[1]-wFig[0]),'bo')\n",
    "\n",
    "#draw the units on the graph\n",
    "ax0=fig.axes[0]\n",
    "ax0.set_xticks([1,X2.size])\n",
    "ax0.set_xticklabels([0,1])\n",
    "ax0.set_yticks([1,wFig.size])\n",
    "ax0.set_yticklabels([0,1])\n",
    "ax0.set_aspect('auto')\n",
    "plt.xlabel('x')\n",
    "plt.ylabel('w')\n",
    "plt.title('Pr(w|x)')\n",
    "\n",
    "plt.show()"
   ]
  },
  {
   "cell_type": "code",
   "execution_count": null,
   "metadata": {},
   "outputs": [],
   "source": []
  },
  {
   "cell_type": "code",
   "execution_count": null,
   "metadata": {},
   "outputs": [],
   "source": []
  }
 ],
 "metadata": {
  "kernelspec": {
   "display_name": "Python 3",
   "language": "python",
   "name": "python3"
  },
  "language_info": {
   "codemirror_mode": {
    "name": "ipython",
    "version": 3
   },
   "file_extension": ".py",
   "mimetype": "text/x-python",
   "name": "python",
   "nbconvert_exporter": "python",
   "pygments_lexer": "ipython3",
   "version": "3.7.3"
  }
 },
 "nbformat": 4,
 "nbformat_minor": 2
}
