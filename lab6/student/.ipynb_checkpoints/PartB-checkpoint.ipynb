{
 "cells": [
  {
   "cell_type": "markdown",
   "metadata": {},
   "source": [
    "# Part B: Sampling from probability distributions using MCMC methods\n",
    "\n",
    "In this part we will use Gibbs sampling to draw samples from a 2D Gaussian distribution. This is illustrated in the book in Figure 10.12 and an outline of the Gibbs sampling algorithm is also [provided](Documentation/GibbsSampling_Cookbook.pdf) in case you want it. After running the code and understanding what it is doing, there are two parts to implement:\n",
    "\n",
    "1. [Defining](#Joint-distribution) the conditional distribution given a specific $x$ or $y$ value.\n",
    "2. [Implementing](#Univariate-distribution) the sampling method for this conditional distribution.\n",
    "\n",
    "**Note**: this is not the usual way to sample from a multivariate Gaussian! A much more efficient way to do this is to take:\n",
    "\n",
    "<p style=\"text-align: center;\">\n",
    "`sample = mean + cholesky(covariance) @ randn(2,1)`\n",
    "</p>\n",
    "\n",
    "Where the routine `'cholesky'` is the cholesky decomposition - a matrix square root so that $L = cholesky(A) \\implies LL^T = A$. Remember also that `@` denotes matrix multiplication in Python.\n",
    "This is implemented in the [`Gaussian2D`](#Define-models) class for reference but is not necessary (and should not be used!) for this part."
   ]
  },
  {
   "cell_type": "markdown",
   "metadata": {},
   "source": [
    "### Import modules\n",
    "\n",
    "A class ```Position``` is also defined to track the $(x, y)$ coordinates of samples"
   ]
  },
  {
   "cell_type": "code",
   "execution_count": 1,
   "metadata": {},
   "outputs": [],
   "source": [
    "from collections import namedtuple\n",
    "\n",
    "import matplotlib.pyplot as plt\n",
    "%matplotlib inline\n",
    "import numpy as np\n",
    "from numpy.linalg import cholesky\n",
    "from numpy.random import randn\n",
    "\n",
    "from utils import arguments_mutually_exclusive\n",
    "from visualisation import draw_gaussian\n",
    "\n",
    "Position = namedtuple('Position', ('x', 'y'))"
   ]
  },
  {
   "cell_type": "markdown",
   "metadata": {},
   "source": [
    "# Define models"
   ]
  },
  {
   "cell_type": "markdown",
   "metadata": {},
   "source": [
    "### Joint distribution\n",
    "**TO DO:** For a specific $x$ _or_ $y$ value the `conditional` method should return a distribution that can be sampled from. Currently it just returns the unit normal, so you should replace this with the correct conditional distribution for both cases (look at the notes for the Gaussian distribution)."
   ]
  },
  {
   "cell_type": "code",
   "execution_count": 2,
   "metadata": {},
   "outputs": [],
   "source": [
    "class Gaussian2D:\n",
    "    '''\n",
    "    Class to define a Gaussian distribution in two dimensions\n",
    "    Attributes:\n",
    "     - mean: mean of the distribution\n",
    "     - covariance: covariance matrix of the distribution\n",
    "    '''\n",
    "    def __init__(self, mean, covariance):\n",
    "        '''\n",
    "        Object creation:\n",
    "         - mean: mean of the distribution\n",
    "         - covariance: covariance matrix of the distribution\n",
    "        '''\n",
    "        self.mean = np.array(mean)\n",
    "        self.covariance = np.array(covariance)\n",
    "    \n",
    "    @property\n",
    "    def parameters(self):\n",
    "        return self.mean, self.covariance\n",
    "        \n",
    "    @arguments_mutually_exclusive\n",
    "    def conditional(self, x=None, y=None):\n",
    "        '''\n",
    "        Method to return the conditional distribution given the value along the other dimension\n",
    "        '''\n",
    "        mu1,mu2 = self.mean\n",
    "        (sigma11,sigma12),(sigma21,sigma22) = self.covariance\n",
    "        if y is not None:\n",
    "\n",
    "            # TO DO: replace this\n",
    "            mean = mu1 + sigma12 *(1/sigma22)*(y-mu2)\n",
    "            std = np.sqrt(sigma11 - sigma12*(1/sigma22)*sigma12)\n",
    "            return Gaussian1D(mean,std)\n",
    "        if x is not None:\n",
    "            # TO DO: replace this\n",
    "            mean = mu2 + sigma12*(1/sigma11)*(x-mu1)\n",
    "            std = np.sqrt(sigma22 - sigma12*(1/sigma11)*sigma12)\n",
    "            return Gaussian1D(mean,std)\n",
    "            \n",
    "    def sample(self):\n",
    "        '''\n",
    "        Method to sample from the distribution\n",
    "        '''\n",
    "        return self.mean.reshape(2, 1) + cholesky(self.covariance) @ randn(2,1)"
   ]
  },
  {
   "cell_type": "markdown",
   "metadata": {},
   "source": [
    "### Univariate distribution\n",
    "**TO DO:** Sample from the gaussian distribution in one dimension _using the parameters given_ (mean,std). You can use `randn` for this."
   ]
  },
  {
   "cell_type": "code",
   "execution_count": 3,
   "metadata": {},
   "outputs": [],
   "source": [
    "class Gaussian1D:\n",
    "    '''\n",
    "    Class to define a Gaussian distribution in one dimension\n",
    "    Attributes:\n",
    "     - mean: mean of the distribution\n",
    "     - std: standard deviation of the distribution\n",
    "     '''\n",
    "    def __init__(self, mean = 0, std =1):\n",
    "        '''\n",
    "        Object creation:\n",
    "         - mean: mean of the distribution\n",
    "         - std: standard deviation of the distribution\n",
    "        '''\n",
    "        self.mean = mean\n",
    "        self.std = std\n",
    "        \n",
    "    def sample(self):\n",
    "        '''\n",
    "        Method to sample from the distribution\n",
    "        '''\n",
    "        data = self.std*randn() + self.mean\n",
    "        #data_minus_mean = data - mean\n",
    "        #before_exp = 1/np.power(2*np.pi*std**2, 0.5)\n",
    "        #inside_exp = -0.5*(data_minus_mean)**2/std**2\n",
    "        #after_exp = np.exp(inside_exp)\n",
    "        #like = before_exp * after_exp\n",
    "        # TO DO: replace this\n",
    "        return data"
   ]
  },
  {
   "cell_type": "markdown",
   "metadata": {},
   "source": [
    "# Generate samples\n",
    "Having defined the type of model we're using, here we define the actual distribution that we're sampling from:"
   ]
  },
  {
   "cell_type": "code",
   "execution_count": 4,
   "metadata": {},
   "outputs": [],
   "source": [
    "joint_distribution = Gaussian2D(mean=[1, 2], covariance=[[1.6370, 0.4210], [0.4210, 0.1598]])\n",
    "current = Position(x=0, y=0)"
   ]
  },
  {
   "cell_type": "code",
   "execution_count": 5,
   "metadata": {},
   "outputs": [
    {
     "name": "stdout",
     "output_type": "stream",
     "text": [
      "2\n"
     ]
    }
   ],
   "source": [
    "mean=[1, 2]\n",
    "covariance=[[1.6370, 0.4210], [0.4210, 0.1598]]\n",
    "print(mean[1])"
   ]
  },
  {
   "cell_type": "markdown",
   "metadata": {},
   "source": [
    "### Generate from Markov Chain\n",
    "Starting from the initial position, every new position should be a (correlated) sample from our distribution. Since we are sampling from the conditional distributions we will only be updating _either_ $x$ or $y$ at each step."
   ]
  },
  {
   "cell_type": "code",
   "execution_count": 10,
   "metadata": {},
   "outputs": [],
   "source": [
    "chain = [current]\n",
    "\n",
    "for sample in range(1000):\n",
    "    # conditional distribution in x direction given current y\n",
    "    sample_x = joint_distribution.conditional(y=current.y).sample()\n",
    "\n",
    "    current = Position(sample_x, current.y)\n",
    "    chain.append(current)\n",
    "\n",
    "    # conditional distribution in y direction given current x\n",
    "    sample_y = joint_distribution.conditional(x=current.x).sample()\n",
    "\n",
    "    current = Position(current.x, sample_y)\n",
    "    chain.append(current)"
   ]
  },
  {
   "cell_type": "markdown",
   "metadata": {},
   "source": [
    "# Visualise samples\n",
    "If the Gibbs sampling is working correctly, the samples should tend to be drawn from inside the black ellipse shown. This represents the distance of two standard deviations from the mean, and so the vast majority of the samples should come from within this area"
   ]
  },
  {
   "cell_type": "code",
   "execution_count": 11,
   "metadata": {
    "scrolled": false
   },
   "outputs": [
    {
     "data": {
      "image/png": "[encoded data removed]",
      "text/plain": [
       "<Figure size 720x648 with 1 Axes>"
      ]
     },
     "metadata": {
      "needs_background": "light"
     },
     "output_type": "display_data"
    }
   ],
   "source": [
    "draw_gaussian(*joint_distribution.parameters)\n",
    "\n",
    "first_point = chain[0]\n",
    "plt.plot(*first_point, '*r')\n",
    "\n",
    "x, y = zip(*chain)\n",
    "plt.plot(x, y, '+b');"
   ]
  },
  {
   "cell_type": "markdown",
   "metadata": {},
   "source": [
    "## TO DO \n",
    "Change the plotting code to only display markers (`+`) rather than a line (`-`) between points and use this method to generate 1000 samples from the Gaussian. It should become clearer that the distribution of locations of the points matches the specified Gaussian distribution."
   ]
  }
 ],
 "metadata": {
  "kernelspec": {
   "display_name": "Python 3",
   "language": "python",
   "name": "python3"
  },
  "language_info": {
   "codemirror_mode": {
    "name": "ipython",
    "version": 3
   },
   "file_extension": ".py",
   "mimetype": "text/x-python",
   "name": "python",
   "nbconvert_exporter": "python",
   "pygments_lexer": "ipython3",
   "version": "3.7.3"
  }
 },
 "nbformat": 4,
 "nbformat_minor": 2
}
