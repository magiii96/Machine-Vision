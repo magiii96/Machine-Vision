{
 "cells": [
  {
   "cell_type": "markdown",
   "metadata": {},
   "source": [
    "## Practical5a\n",
    "\n",
    "The goal of this practical is to investigate dynamic programming along\n",
    "scanlines in stereo vision.  In this part of the practical, we build a\n",
    "basic dynamic programming algorithm, which will solve the same problem as\n",
    "presented in the notes.  \n",
    "In practical 5b we will apply this to the stereo problem.  \n",
    "\n",
    "\n",
    "Use the template below, filling in parts marked \"TO DO\".\n",
    " Note: Optionally, you may want to move the function-skeleton\n",
    "       function bestPath = dynamicProgram(unaryCosts, pairwiseCosts)...\n",
    " from below into its own new and separate dynamicProgram.m file, for \n",
    " easier debugging and re-use.\n",
    "\n",
    "close any previous figures;"
   ]
  },
  {
   "cell_type": "code",
   "execution_count": 2,
   "metadata": {},
   "outputs": [],
   "source": [
    "import os \n",
    "import numpy as np\n",
    "import matplotlib.pyplot as plt\n",
    "import scipy.io as spio\n",
    "plt.close('all')"
   ]
  },
  {
   "cell_type": "code",
   "execution_count": 5,
   "metadata": {},
   "outputs": [],
   "source": [
    "# define unary costs : unaryCosts[d,j] represents the cost for having\n",
    "# disparity d at pixel j.\n",
    "unaryCosts = np.array([[2.0, 1.1, 5.7, 1.5, 6.0, 3.1],\n",
    "              [0.8, 4.8, 1.0, 3.0, 6.9, 3.3],\n",
    "              [4.3, 2.3, 2.4, 2.4, 6.6, 6.2],\n",
    "              [6.4, 0.0, 6.1, 0.8, 7.1, 2.1],\n",
    "              [2.3, 2.2, 4.9, 8.9, 1.0, 9.8]])\n",
    "\n",
    "# define pairwise costs:  pairwiseCosts[a,b] represents the cost for changing from \n",
    "# disparity level A at pixel j to disparity level B at pixel j+1;\n",
    "pairwiseCosts = np.array([[   0,   2, 100, 100, 100],\n",
    "                          [   2,   0,   2, 100, 100],\n",
    "                          [ 100,   2,   0,   2, 100],\n",
    "                          [ 100, 100,   2,   0,   2],\n",
    "                          [ 100, 100, 100,   2,   0]])\n",
    "\n"
   ]
  },
  {
   "cell_type": "code",
   "execution_count": 9,
   "metadata": {},
   "outputs": [
    {
     "data": {
      "text/plain": [
       "array([2. , 1.1, 5.7, 1.5, 6. , 3.1])"
      ]
     },
     "execution_count": 9,
     "metadata": {},
     "output_type": "execute_result"
    }
   ],
   "source": [
    "unaryCosts[0]"
   ]
  },
  {
   "cell_type": "code",
   "execution_count": 39,
   "metadata": {},
   "outputs": [],
   "source": [
    "# the goal of this routine is to return the minimum cost dynamic programming\n",
    "# solution given a set of unary and pairwise costs\n",
    "def dynamicProgram(unaryCosts, pairwiseCosts):\n",
    "\n",
    "    # count number of positions (i.e. pixels in the scanline), and nodes at each\n",
    "    # position (i.e. the number of distinct possible disparities at each position)\n",
    "    nNodesPerPosition = len(unaryCosts) #5\n",
    "    nPosition = len(unaryCosts[0]) #6\n",
    "\n",
    "    # define minimum cost matrix - each element will eventually contain\n",
    "    # the minimum cost to reach this node from the left hand side.\n",
    "    # We will update it as we move from left to right\n",
    "    minimumCost = np.zeros([nNodesPerPosition, nPosition]);\n",
    "\n",
    "    # define parent matrix - each element will contain the (vertical) index of\n",
    "    # the node that preceded it on the path.  Since the first column has no\n",
    "    # parents, we will leave it set to zeros.\n",
    "    parents = np.zeros([nNodesPerPosition, nPosition]);\n",
    "\n",
    "    # FORWARD PASS\n",
    "\n",
    "    # TO DO:  fill in first column of minimum cost matrix\n",
    "    minimumCost[:,0] = unaryCosts[:,0];\n",
    "    \n",
    "    # Now run through each position (column)\n",
    "    for cPosition in range(1,nPosition):\n",
    "        # run through each node (element of column)\n",
    "        for cNode in range(nNodesPerPosition):\n",
    "            # now we find the costs of all paths from the previous column to this node\n",
    "            possPathCosts = np.zeros([nNodesPerPosition,1]);\n",
    "            for cPrevNode in range(nNodesPerPosition):\n",
    "                # TO DO  - fill in elements of possPathCosts\n",
    "                possPathCosts[cPrevNode,:] = minimumCost[cPrevNode, cPosition - 1] + pairwiseCosts[cPrevNode,cNode] + unaryCosts[cNode,cPosition];\n",
    "            # TO DO - find the minimum of the possible paths \n",
    "            mincostNode = np.min(possPathCosts, axis = 0);\n",
    "\n",
    "            # TO DO - store the minimum cost in the minimumCost matrix\n",
    "            minimumCost[cNode, cPosition] = mincostNode;\n",
    "           \n",
    "            # TO DO - store the parent index in the parents matrix\n",
    "            ind = np.argmin(possPathCosts);\n",
    "            parents[cNode,cPosition] = ind\n",
    "            \n",
    "\n",
    "\n",
    "    #BACKWARD PASS\n",
    "\n",
    "    #we will now fill in the bestPath vector\n",
    "    bestPath = np.zeros([nPosition,1])\n",
    "    \n",
    "    #TO DO  - find the index of the overall minimum cost from the last column and put this\n",
    "    #into the last entry of best path\n",
    "    idxlastmin = np.argmin(minimumCost[:,-1]);\n",
    "    bestPath[-1,0] = idxlastmin;\n",
    "   \n",
    "    # TO DO - find the parent of the node you just found\n",
    "    parentNode = parents[idxlastmin,-1];\n",
    "\n",
    "    # run backwards through the cost matrix tracing the best patch\n",
    "    for cPosition in range(nPosition-2,-1,-1):\n",
    "        # TO DO - work through matrix backwards, updating bestPath by tracing\n",
    "        # parents.\n",
    "        bestPath[cPosition,0] = parentNode ;\n",
    "        parentNode = parents[int(parentNode),cPosition];\n",
    "\n",
    "    #TO DO: REMOVE THIS WHEN YOU ARE DONE\n",
    "    #bestPath = np.floor(np.random.random(nPosition)*nNodesPerPosition);\n",
    "\n",
    "    return bestPath,parentNode \n",
    "    "
   ]
  },
  {
   "cell_type": "code",
   "execution_count": null,
   "metadata": {},
   "outputs": [],
   "source": []
  },
  {
   "cell_type": "code",
   "execution_count": 40,
   "metadata": {},
   "outputs": [
    {
     "name": "stdout",
     "output_type": "stream",
     "text": [
      "[[1.]\n",
      " [2.]\n",
      " [2.]\n",
      " [3.]\n",
      " [4.]\n",
      " [3.]]\n",
      "0.0\n"
     ]
    }
   ],
   "source": [
    "bestPath,parentNode = dynamicProgram(unaryCosts,pairwiseCosts)\n",
    "\n",
    "print(bestPath);\n",
    "print(parentNode);"
   ]
  },
  {
   "cell_type": "code",
   "execution_count": 41,
   "metadata": {},
   "outputs": [
    {
     "data": {
      "image/png": "[encoded data removed]",
      "text/plain": [
       "<Figure size 432x288 with 1 Axes>"
      ]
     },
     "metadata": {
      "needs_background": "light"
     },
     "output_type": "display_data"
    },
    {
     "name": "stdout",
     "output_type": "stream",
     "text": [
      "Path Cost = 17.4\n"
     ]
    }
   ],
   "source": [
    "\n",
    "# Now, use dynamic programming to find the best solution.\n",
    "# TO DO - fill in this routine (further down in this file).\n",
    "\n",
    "\n",
    "# display the nodes\n",
    "nY = len(unaryCosts)\n",
    "nX = len(unaryCosts[0])\n",
    "plt.axis([-1, 6, -1, 6])\n",
    "for cY in range(nY):\n",
    "    for cX in range(nX):\n",
    "        plt.plot(cX,cY,'ro',ms=5.)\n",
    "        plt.text(cX+.1, cY+.1, unaryCosts[cY,cX])\n",
    "\n",
    "\n",
    "# display the best path\n",
    "plt.plot(range(nX),bestPath,'b-');\n",
    "plt.show()\n",
    "\n",
    "# calculate the cost of the path computed\n",
    "bestPathCostUnary = np.sum((np.transpose(unaryCosts).reshape((nX*nY,1)))[(np.add(nY * np.array(range(nX)),np.transpose(bestPath)[0])).astype(int)])\n",
    "bestPathCostPairwise = np.sum(np.transpose(pairwiseCosts).reshape((nY*nY,1))[np.array([bestPath[0:-1]+nY*bestPath[1:]]).reshape((1,nY)).astype(int)[0]]);\n",
    "bestCost = bestPathCostUnary+bestPathCostPairwise\n",
    "print('Path Cost =',bestCost)\n"
   ]
  },
  {
   "cell_type": "code",
   "execution_count": null,
   "metadata": {},
   "outputs": [],
   "source": [
    "print(par)"
   ]
  },
  {
   "cell_type": "code",
   "execution_count": null,
   "metadata": {},
   "outputs": [],
   "source": []
  }
 ],
 "metadata": {
  "kernelspec": {
   "display_name": "Python 3",
   "language": "python",
   "name": "python3"
  },
  "language_info": {
   "codemirror_mode": {
    "name": "ipython",
    "version": 3
   },
   "file_extension": ".py",
   "mimetype": "text/x-python",
   "name": "python",
   "nbconvert_exporter": "python",
   "pygments_lexer": "ipython3",
   "version": "3.7.3"
  }
 },
 "nbformat": 4,
 "nbformat_minor": 2
}
