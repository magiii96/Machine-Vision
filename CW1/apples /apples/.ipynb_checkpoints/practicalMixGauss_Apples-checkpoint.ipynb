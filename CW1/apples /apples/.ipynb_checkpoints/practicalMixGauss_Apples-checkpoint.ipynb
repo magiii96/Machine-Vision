{
 "cells": [
  {
   "cell_type": "code",
   "execution_count": 11,
   "metadata": {},
   "outputs": [],
   "source": [
    "import glob\n",
    "import numpy as np\n",
    "import matplotlib.pyplot as plt"
   ]
  },
  {
   "cell_type": "markdown",
   "metadata": {},
   "source": [
    "Load Image of Apples "
   ]
  },
  {
   "cell_type": "code",
   "execution_count": 12,
   "metadata": {},
   "outputs": [],
   "source": [
    "ColorImg = glob.glob(\"*.jpg\")\n",
    "ColorImgs = []\n",
    "for myFile in ColorImgs:\n",
    "    im = plt.imread(myFile)\n",
    "    #change the range of each channel into [0,1]\n",
    "    im = im/255 \n",
    "    ColorImgs.append(im)\n"
   ]
  },
  {
   "cell_type": "markdown",
   "metadata": {},
   "source": [
    "Load Mask of Apples "
   ]
  },
  {
   "cell_type": "code",
   "execution_count": 13,
   "metadata": {},
   "outputs": [],
   "source": [
    "mask = glob.glob(\"*.png\")\n",
    "masks = []\n",
    "for myFile in mask:\n",
    "    im = plt.imread(myFile)\n",
    "    #\n",
    "    im = im[:,:,1] \n",
    "    masks.append(im)"
   ]
  },
  {
   "cell_type": "code",
   "execution_count": 14,
   "metadata": {},
   "outputs": [],
   "source": [
    "# display the test image and the ground truth mask\n",
    "for i in range(len(ColorImgs)):\n",
    "    f, (ax1, ax2) = plt.subplots(1, 2)\n",
    "    ax1.imshow(ColorImgs[i])\n",
    "    ax1.set_title('Image')\n",
    "    ax2.imshow(MaskImgs[i])\n",
    "    ax2.set_title('Ground Truth')"
   ]
  },
  {
   "cell_type": "markdown",
   "metadata": {},
   "source": [
    "Generate training data and we should have two sets of data,one for apple and another one for nonapple.Both are sized at 3 x n (3 for RGB dimensions and n for the number of data pixels). Each column contains RGB information for one pixel."
   ]
  },
  {
   "cell_type": "code",
   "execution_count": 5,
   "metadata": {},
   "outputs": [],
   "source": [
    "Apple=[]\n",
    "NonApple=[]\n",
    "nofapple=0\n",
    "nofnonapple=0\n",
    "# Fill the training arrays RGBApples and RGBNonApples.\n",
    "for i in range(len(ColorImgs)):\n",
    "    rows,cols,channel = ColorImgs[i].shape\n",
    "    for r in range(rows):\n",
    "        for c in range(cols):\n",
    "            # If equals to zero means this pxiel is black and it indicate that it belongs to nonapple part.\n",
    "            if MaskImgs[i][r,c]==0.0:\n",
    "                NonApple.append(ColorImgs[i][r,c,:])\n",
    "                nofnonapple+=1\n",
    "            # White pixels indicate locations where the corresponding photo is an apple\n",
    "            else:\n",
    "                Apple.append(ColorImgs[i][r,c,:])\n",
    "                nofapple+=1\n",
    "                \n",
    "Apple=np.array(Apple).T\n",
    "NonApple=np.array(NonApple).T"
   ]
  },
  {
   "cell_type": "code",
   "execution_count": 6,
   "metadata": {},
   "outputs": [
    {
     "ename": "SyntaxError",
     "evalue": "invalid character in identifier (<ipython-input-6-c0000484c259>, line 1)",
     "output_type": "error",
     "traceback": [
      "\u001b[0;36m  File \u001b[0;32m\"<ipython-input-6-c0000484c259>\"\u001b[0;36m, line \u001b[0;32m1\u001b[0m\n\u001b[0;31m    def getGaussProb(data，mean, cov):\u001b[0m\n\u001b[0m                             ^\u001b[0m\n\u001b[0;31mSyntaxError\u001b[0m\u001b[0;31m:\u001b[0m invalid character in identifier\n"
     ]
    }
   ],
   "source": [
    "def getGaussProb(data，mean, cov):    \n",
    "    \"\"\"\n",
    "    Returns the likelihood that each data point in data belongs to the Gaussian described by gaussMean and \n",
    "    gaussCov.\n",
    "    \n",
    "    Keyword arguments:\n",
    "    data -- d by n matrix of data points. d is the number of dimensions and n is the number of data points.\n",
    "    gaussMean -- d by 1 vector containing the mean parameter of the Gaussian distribution.\n",
    "    gaussCov -- d by d matrix containing the covariance parameters of the Gaussian distribution.\n",
    "    \n",
    "    Returns: \n",
    "    like -- 1 by n vector contianing the likelihood that each data point in data belongs to the Gaussian \n",
    "    distribution defined by gaussMean and gaussCov.\n",
    "    \"\"\"\n",
    "\n",
    "    nDim,nData = data.shape\n",
    "    meanData = np.mean(data,axis=1,keepdims=True)\n",
    "    \n",
    "    d = len(mean)\n",
    "    meanData = np.mean(data,axis=1,keepdims=True)\n",
    "    prob = np.exp(-0.5*((x-mean).T @ np.linalg.pinv(var) @ (x-mean)))                        \n",
    "    prob = prob/ ((2.0*np.pi)**(nDim/2)*np.linalg.det(var)**(1/2))\n",
    "    prob = np.double(prob)\n",
    "    \n",
    "    \n",
    "    #before_exp = np.double(1/np.power(np.power(2*np.pi, d)*np.linalg.det(cov), 0.5))\n",
    "    #inside_exp = np.sum((data_minus_mean.T @ np.linalg.pinv(cov)) * data_minus_mean.T, axis=1)\n",
    "    #after_exp = np.double(np.exp((-0.5) * inside_exp))\n",
    "    #like = np.double(before_exp * after_exp)\n",
    "\n",
    "    return prob"
   ]
  },
  {
   "cell_type": "markdown",
   "metadata": {},
   "source": [
    "The log likelihood is taken since the raw likelihood value could be too small for our machine's percision."
   ]
  },
  {
   "cell_type": "code",
   "execution_count": null,
   "metadata": {},
   "outputs": [],
   "source": [
    "def getMixGaussLogLike(data, mixGaussEst): \n",
    "    \"\"\"\n",
    "    Calculate the log likelihood for the whole dataset under a mixture of Gaussians model.\n",
    "    \n",
    "    Keyword arguments:\n",
    "    data -- d by n matrix containing data points.\n",
    "    mixGaussEst -- dict containing the mixture of gaussians parameters.\n",
    "\n",
    "    Returns: \n",
    "    logLike -- scalar containing the log likelihood.\n",
    "    \n",
    "    \"\"\"\n",
    "    \n",
    "    data = np.atleast_2d(data)                                                                         \n",
    "    # find total number of data items                                                                  \n",
    "    nDims, nData = data.shape                                                                          \n",
    "    \n",
    "    # initialize log likelihoods                                                                       \n",
    "    logLike = 0; \n",
    "    \n",
    "    curCov = mixGaussEst['cov']                                                                             \n",
    "    curWeight = mixGaussEst['weight']                                                                       \n",
    "    curMean = mixGaussEst['mean']   \n",
    "                                                                                                       \n",
    "    # run through each data item                                                                       \n",
    "    for cData in range(nData):                                                                         \n",
    "        thisData = data[:, cData]                                                                      \n",
    "        # TO DO - calculate likelihood of this data point under mixture of                         \n",
    "        # Gaussians model. Replace this                                                                \n",
    "        like = 0\n",
    "        for i in range (mixGaussEst['k']):\n",
    "            gaussprob = getGaussProb(thisData,curMean[:,i], curCov[:,:,i])\n",
    "            like += curWeight[i]*gaussprob                                                                                           \n",
    "        # add to total log like                                                                        \n",
    "        logLike = logLike + np.log(like)                                                                                                                                                                   \n",
    "    return  np.asscalar(logLike)  "
   ]
  },
  {
   "cell_type": "code",
   "execution_count": null,
   "metadata": {},
   "outputs": [],
   "source": [
    "def fitMixGauss(data, k):\n",
    "    \"\"\"\n",
    "    Estimate a k MoG model that would fit the data. Incremently plots the outcome.\n",
    "               \n",
    "    \n",
    "    Keyword arguments:\n",
    "    data -- d by n matrix containing data points.\n",
    "    k -- scalar representing the number of gaussians to use in the MoG model.\n",
    "    \n",
    "    Returns: \n",
    "    mixGaussEst -- dict containing the estimated MoG parameters.\n",
    "    \n",
    "    \"\"\"\n",
    "    \n",
    "    #     MAIN E-M ROUTINE  \n",
    "    #     In the E-M algorithm, we calculate a complete posterior distribution over                                  \n",
    "    #     the (nData) hidden variables in the E-Step.  \n",
    "    #     In the M-Step, we update the parameters of the Gaussians (mean, cov, w).   \n",
    "    \n",
    "    nDims, nData = data.shape\n",
    "\n",
    "\n",
    "    postHidden = np.zeros(shape=(k, nData))\n",
    "\n",
    "    # we will initialize the values to random values\n",
    "    mixGaussEst = dict()\n",
    "    mixGaussEst['d'] = nDims\n",
    "    mixGaussEst['k'] = k\n",
    "    mixGaussEst['weight'] = (1 / k) * np.ones(shape=(k))\n",
    "    mixGaussEst['mean'] = 2 * np.random.randn(nDims, k)\n",
    "    mixGaussEst['cov'] = np.zeros(shape=(nDims, nDims, k))\n",
    "    for cGauss in range(k):\n",
    "        mixGaussEst['cov'][:, :, cGauss] = 2.5 + 1.5 * np.random.uniform() * np.eye(nDims)\n",
    "        \n",
    "\n",
    "    # calculate current likelihood\n",
    "    # TO DO - fill in this routine\n",
    "    logLike = getMixGaussLogLike(data, mixGaussEst)\n",
    "    print('Log Likelihood Iter 0 : {:4.3f}\\n'.format(logLike))\n",
    "\n",
    "    nIter = 30;\n",
    "\n",
    "    logLikeVec = np.zeros(shape=(2 * nIter))\n",
    "    boundVec = np.zeros(shape=(2 * nIter))\n",
    "\n",
    "    fig, ax = plt.subplots(1, 1)\n",
    "\n",
    "    for cIter in range(nIter):\n",
    "\n",
    "        # ===================== =====================\n",
    "        # Expectation step\n",
    "        # ===================== =====================\n",
    "        curCov = mixGaussEst['cov']                                                                                  \n",
    "        curWeight = mixGaussEst['weight']                                                                            \n",
    "        curMean = mixGaussEst['mean']  \n",
    "\n",
    "        for cData in range(nData):\n",
    "            # TO DO (g) : fill in column of 'hidden' - calculate posterior probability that\n",
    "            # this data point came from each of the Gaussians\n",
    "            # replace this:\n",
    "            lik = 0\n",
    "            thisdata = data[:, cData]\n",
    "            for i in range(k):\n",
    "                gaussprob = getGaussProb(thisdata, curMean[:,i], curCov[:,:,i])\n",
    "                lik += curWeight[i]*gaussprob\n",
    "            for i in range(k):\n",
    "                gaussprob = getGaussProb(thisdata, curMean[:,i], curCov[:,:,i])\n",
    "                postHidden[i, cData] = curWeight[i]*gaussprob/lik\n",
    "\n",
    "            # (note that this is equivalent to the \"responsibilities\" variable in the Expectation step of practical B)\n",
    "\n",
    "        # ===================== =====================\n",
    "        # Maximization Step\n",
    "        # ===================== =====================\n",
    "        # for each constituent Gaussian\n",
    "        for cGauss in range(k):\n",
    "            # TO DO (h):  Update weighting parameters mixGauss.weight based on the total\n",
    "            # posterior probability associated with each Gaussian. Replace this:\n",
    "            curWeight[cGauss] = postHidden[cGauss,:].sum()/postHidden.sum()\n",
    "            \n",
    "            \n",
    "            # TO DO (i):  Update mean parameters mixGauss.mean by weighted average\n",
    "            # where weights are given by posterior probability associated with\n",
    "            # Gaussian.  Replace this:\n",
    "            \n",
    "            \n",
    "            rikxi=0\n",
    "            for cData in range(nData):\n",
    "                rikxi+=postHidden[cGauss][cData]*data[:, cData]\n",
    "            curMean[:,cGauss] = rikxi/postHidden[cGauss,:].sum()\n",
    "    \n",
    "            # TO DO (j):  Update covarance parameter based on weighted average of\n",
    "            # square distance from update mean, where weights are given by\n",
    "            # posterior probability associated with Gaussian\n",
    "            \n",
    "            rikcov = 0\n",
    "            for cData in range(nData):\n",
    "                Xmu = data[:,cData]- curMean[:,cGauss]\n",
    "                rikcov+=postHidden[cGauss][cData]*np.mat(Xmu).T @ np.mat(Xmu)\n",
    "            curCov[:,:,cGauss] = rikcov/postHidden[cGauss,:].sum()\n",
    "            \n",
    "            # draw the new solution\n",
    "        drawEMData2d(data, mixGaussEst)\n",
    "        time.sleep(0.7)\n",
    "        fig.canvas.draw()\n",
    "\n",
    "        # calculate the log likelihood\n",
    "        logLike = getMixGaussLogLike(data, mixGaussEst)\n",
    "        print('Log Likelihood After Iter {} : {:4.3f}\\n'.format(cIter, logLike))\n",
    "\n",
    "\n",
    "    return mixGaussEst"
   ]
  },
  {
   "cell_type": "markdown",
   "metadata": {},
   "source": [
    "Fit the mixture of Gaussians model to the apple and non apple"
   ]
  },
  {
   "cell_type": "code",
   "execution_count": null,
   "metadata": {},
   "outputs": [],
   "source": [
    "#define number of components to estimate\n",
    "nGaussEst = 4\n",
    "\n",
    "#fit mixture of Gaussians \n",
    "mixGaussEst = fitMixGauss(Apple,nGaussEst);\n",
    "mixGaussEst = fitMixGauss(NonApple,nGaussEst);"
   ]
  },
  {
   "cell_type": "code",
   "execution_count": null,
   "metadata": {},
   "outputs": [],
   "source": []
  }
 ],
 "metadata": {
  "kernelspec": {
   "display_name": "Python 3",
   "language": "python",
   "name": "python3"
  },
  "language_info": {
   "codemirror_mode": {
    "name": "ipython",
    "version": 3
   },
   "file_extension": ".py",
   "mimetype": "text/x-python",
   "name": "python",
   "nbconvert_exporter": "python",
   "pygments_lexer": "ipython3",
   "version": "3.7.3"
  }
 },
 "nbformat": 4,
 "nbformat_minor": 2
}
